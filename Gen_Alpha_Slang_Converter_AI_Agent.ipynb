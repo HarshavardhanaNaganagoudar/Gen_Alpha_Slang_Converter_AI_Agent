{
  "nbformat": 4,
  "nbformat_minor": 0,
  "metadata": {
    "colab": {
      "provenance": []
    },
    "kernelspec": {
      "name": "python3",
      "display_name": "Python 3"
    },
    "language_info": {
      "name": "python"
    }
  },
  "cells": [
    {
      "cell_type": "markdown",
      "source": [
        "**Goal**: Build an AI Agent that converts normal english text into Generation Alpha slang. Use LangGraph framework to accomplish the task."
      ],
      "metadata": {
        "id": "syGCqHBpk2Cr"
      }
    },
    {
      "cell_type": "markdown",
      "source": [
        "**Inspiration**: Have you ever come across words like \"Skibidi\", \"Rizz\", \"Sus\" ?, if not, then you are ancient. Because that is how the newer generation alpha kids born between 2013 - 2024 are talking/messaging. No worries, this AI Agent got you covered.\n",
        "\n",
        "*   Note: The AI Agent covers only prominent words and might not cover all the exisiting words.\n",
        "\n",
        "\n",
        "\n"
      ],
      "metadata": {
        "id": "L_hEK2T1k16_"
      }
    },
    {
      "cell_type": "markdown",
      "source": [
        "**Install packages**"
      ],
      "metadata": {
        "id": "fZAC9hz0sOyk"
      }
    },
    {
      "cell_type": "code",
      "execution_count": 1,
      "metadata": {
        "colab": {
          "base_uri": "https://localhost:8080/"
        },
        "id": "WEgRMja2Rk_x",
        "outputId": "27155a17-df4b-45cc-f382-caac9fbc99a1"
      },
      "outputs": [
        {
          "output_type": "stream",
          "name": "stdout",
          "text": [
            "Collecting langchain-community\n",
            "  Downloading langchain_community-0.3.24-py3-none-any.whl.metadata (2.5 kB)\n",
            "Collecting langgraph\n",
            "  Downloading langgraph-0.4.3-py3-none-any.whl.metadata (7.9 kB)\n",
            "Collecting langchain-anthropic\n",
            "  Downloading langchain_anthropic-0.3.13-py3-none-any.whl.metadata (1.9 kB)\n",
            "Collecting tavily-python\n",
            "  Downloading tavily_python-0.7.2-py3-none-any.whl.metadata (7.0 kB)\n",
            "Collecting langgraph-checkpoint-sqlite\n",
            "  Downloading langgraph_checkpoint_sqlite-2.0.7-py3-none-any.whl.metadata (3.0 kB)\n",
            "Requirement already satisfied: langchain-core<1.0.0,>=0.3.59 in /usr/local/lib/python3.11/dist-packages (from langchain-community) (0.3.59)\n",
            "Requirement already satisfied: langchain<1.0.0,>=0.3.25 in /usr/local/lib/python3.11/dist-packages (from langchain-community) (0.3.25)\n",
            "Requirement already satisfied: SQLAlchemy<3,>=1.4 in /usr/local/lib/python3.11/dist-packages (from langchain-community) (2.0.40)\n",
            "Requirement already satisfied: requests<3,>=2 in /usr/local/lib/python3.11/dist-packages (from langchain-community) (2.32.3)\n",
            "Requirement already satisfied: PyYAML>=5.3 in /usr/local/lib/python3.11/dist-packages (from langchain-community) (6.0.2)\n",
            "Requirement already satisfied: aiohttp<4.0.0,>=3.8.3 in /usr/local/lib/python3.11/dist-packages (from langchain-community) (3.11.15)\n",
            "Requirement already satisfied: tenacity!=8.4.0,<10,>=8.1.0 in /usr/local/lib/python3.11/dist-packages (from langchain-community) (9.1.2)\n",
            "Collecting dataclasses-json<0.7,>=0.5.7 (from langchain-community)\n",
            "  Downloading dataclasses_json-0.6.7-py3-none-any.whl.metadata (25 kB)\n",
            "Collecting pydantic-settings<3.0.0,>=2.4.0 (from langchain-community)\n",
            "  Downloading pydantic_settings-2.9.1-py3-none-any.whl.metadata (3.8 kB)\n",
            "Requirement already satisfied: langsmith<0.4,>=0.1.125 in /usr/local/lib/python3.11/dist-packages (from langchain-community) (0.3.42)\n",
            "Collecting httpx-sse<1.0.0,>=0.4.0 (from langchain-community)\n",
            "  Downloading httpx_sse-0.4.0-py3-none-any.whl.metadata (9.0 kB)\n",
            "Requirement already satisfied: numpy>=1.26.2 in /usr/local/lib/python3.11/dist-packages (from langchain-community) (2.0.2)\n",
            "Collecting langgraph-checkpoint<3.0.0,>=2.0.10 (from langgraph)\n",
            "  Downloading langgraph_checkpoint-2.0.25-py3-none-any.whl.metadata (4.6 kB)\n",
            "Collecting langgraph-prebuilt>=0.1.8 (from langgraph)\n",
            "  Downloading langgraph_prebuilt-0.1.8-py3-none-any.whl.metadata (5.0 kB)\n",
            "Collecting langgraph-sdk>=0.1.42 (from langgraph)\n",
            "  Downloading langgraph_sdk-0.1.69-py3-none-any.whl.metadata (1.8 kB)\n",
            "Requirement already satisfied: pydantic>=2.7.4 in /usr/local/lib/python3.11/dist-packages (from langgraph) (2.11.4)\n",
            "Requirement already satisfied: xxhash<4.0.0,>=3.5.0 in /usr/local/lib/python3.11/dist-packages (from langgraph) (3.5.0)\n",
            "Collecting anthropic<1,>=0.51.0 (from langchain-anthropic)\n",
            "  Downloading anthropic-0.51.0-py3-none-any.whl.metadata (25 kB)\n",
            "Requirement already satisfied: tiktoken>=0.5.1 in /usr/local/lib/python3.11/dist-packages (from tavily-python) (0.9.0)\n",
            "Requirement already satisfied: httpx in /usr/local/lib/python3.11/dist-packages (from tavily-python) (0.28.1)\n",
            "Collecting aiosqlite<0.22,>=0.20 (from langgraph-checkpoint-sqlite)\n",
            "  Downloading aiosqlite-0.21.0-py3-none-any.whl.metadata (4.3 kB)\n",
            "Requirement already satisfied: aiohappyeyeballs>=2.3.0 in /usr/local/lib/python3.11/dist-packages (from aiohttp<4.0.0,>=3.8.3->langchain-community) (2.6.1)\n",
            "Requirement already satisfied: aiosignal>=1.1.2 in /usr/local/lib/python3.11/dist-packages (from aiohttp<4.0.0,>=3.8.3->langchain-community) (1.3.2)\n",
            "Requirement already satisfied: attrs>=17.3.0 in /usr/local/lib/python3.11/dist-packages (from aiohttp<4.0.0,>=3.8.3->langchain-community) (25.3.0)\n",
            "Requirement already satisfied: frozenlist>=1.1.1 in /usr/local/lib/python3.11/dist-packages (from aiohttp<4.0.0,>=3.8.3->langchain-community) (1.6.0)\n",
            "Requirement already satisfied: multidict<7.0,>=4.5 in /usr/local/lib/python3.11/dist-packages (from aiohttp<4.0.0,>=3.8.3->langchain-community) (6.4.3)\n",
            "Requirement already satisfied: propcache>=0.2.0 in /usr/local/lib/python3.11/dist-packages (from aiohttp<4.0.0,>=3.8.3->langchain-community) (0.3.1)\n",
            "Requirement already satisfied: yarl<2.0,>=1.17.0 in /usr/local/lib/python3.11/dist-packages (from aiohttp<4.0.0,>=3.8.3->langchain-community) (1.20.0)\n",
            "Requirement already satisfied: typing_extensions>=4.0 in /usr/local/lib/python3.11/dist-packages (from aiosqlite<0.22,>=0.20->langgraph-checkpoint-sqlite) (4.13.2)\n",
            "Requirement already satisfied: anyio<5,>=3.5.0 in /usr/local/lib/python3.11/dist-packages (from anthropic<1,>=0.51.0->langchain-anthropic) (4.9.0)\n",
            "Requirement already satisfied: distro<2,>=1.7.0 in /usr/local/lib/python3.11/dist-packages (from anthropic<1,>=0.51.0->langchain-anthropic) (1.9.0)\n",
            "Requirement already satisfied: jiter<1,>=0.4.0 in /usr/local/lib/python3.11/dist-packages (from anthropic<1,>=0.51.0->langchain-anthropic) (0.9.0)\n",
            "Requirement already satisfied: sniffio in /usr/local/lib/python3.11/dist-packages (from anthropic<1,>=0.51.0->langchain-anthropic) (1.3.1)\n",
            "Collecting marshmallow<4.0.0,>=3.18.0 (from dataclasses-json<0.7,>=0.5.7->langchain-community)\n",
            "  Downloading marshmallow-3.26.1-py3-none-any.whl.metadata (7.3 kB)\n",
            "Collecting typing-inspect<1,>=0.4.0 (from dataclasses-json<0.7,>=0.5.7->langchain-community)\n",
            "  Downloading typing_inspect-0.9.0-py3-none-any.whl.metadata (1.5 kB)\n",
            "Requirement already satisfied: certifi in /usr/local/lib/python3.11/dist-packages (from httpx->tavily-python) (2025.4.26)\n",
            "Requirement already satisfied: httpcore==1.* in /usr/local/lib/python3.11/dist-packages (from httpx->tavily-python) (1.0.9)\n",
            "Requirement already satisfied: idna in /usr/local/lib/python3.11/dist-packages (from httpx->tavily-python) (3.10)\n",
            "Requirement already satisfied: h11>=0.16 in /usr/local/lib/python3.11/dist-packages (from httpcore==1.*->httpx->tavily-python) (0.16.0)\n",
            "Requirement already satisfied: langchain-text-splitters<1.0.0,>=0.3.8 in /usr/local/lib/python3.11/dist-packages (from langchain<1.0.0,>=0.3.25->langchain-community) (0.3.8)\n",
            "Requirement already satisfied: jsonpatch<2.0,>=1.33 in /usr/local/lib/python3.11/dist-packages (from langchain-core<1.0.0,>=0.3.59->langchain-community) (1.33)\n",
            "Requirement already satisfied: packaging<25,>=23.2 in /usr/local/lib/python3.11/dist-packages (from langchain-core<1.0.0,>=0.3.59->langchain-community) (24.2)\n",
            "Collecting ormsgpack<2.0.0,>=1.8.0 (from langgraph-checkpoint<3.0.0,>=2.0.10->langgraph)\n",
            "  Downloading ormsgpack-1.9.1-cp311-cp311-manylinux_2_17_x86_64.manylinux2014_x86_64.whl.metadata (43 kB)\n",
            "\u001b[2K     \u001b[90m━━━━━━━━━━━━━━━━━━━━━━━━━━━━━━━━━━━━━━━━\u001b[0m \u001b[32m43.5/43.5 kB\u001b[0m \u001b[31m3.4 MB/s\u001b[0m eta \u001b[36m0:00:00\u001b[0m\n",
            "\u001b[?25hRequirement already satisfied: orjson>=3.10.1 in /usr/local/lib/python3.11/dist-packages (from langgraph-sdk>=0.1.42->langgraph) (3.10.18)\n",
            "Requirement already satisfied: requests-toolbelt<2.0.0,>=1.0.0 in /usr/local/lib/python3.11/dist-packages (from langsmith<0.4,>=0.1.125->langchain-community) (1.0.0)\n",
            "Requirement already satisfied: zstandard<0.24.0,>=0.23.0 in /usr/local/lib/python3.11/dist-packages (from langsmith<0.4,>=0.1.125->langchain-community) (0.23.0)\n",
            "Requirement already satisfied: annotated-types>=0.6.0 in /usr/local/lib/python3.11/dist-packages (from pydantic>=2.7.4->langgraph) (0.7.0)\n",
            "Requirement already satisfied: pydantic-core==2.33.2 in /usr/local/lib/python3.11/dist-packages (from pydantic>=2.7.4->langgraph) (2.33.2)\n",
            "Requirement already satisfied: typing-inspection>=0.4.0 in /usr/local/lib/python3.11/dist-packages (from pydantic>=2.7.4->langgraph) (0.4.0)\n",
            "Collecting python-dotenv>=0.21.0 (from pydantic-settings<3.0.0,>=2.4.0->langchain-community)\n",
            "  Downloading python_dotenv-1.1.0-py3-none-any.whl.metadata (24 kB)\n",
            "Requirement already satisfied: charset-normalizer<4,>=2 in /usr/local/lib/python3.11/dist-packages (from requests<3,>=2->langchain-community) (3.4.2)\n",
            "Requirement already satisfied: urllib3<3,>=1.21.1 in /usr/local/lib/python3.11/dist-packages (from requests<3,>=2->langchain-community) (2.4.0)\n",
            "Requirement already satisfied: greenlet>=1 in /usr/local/lib/python3.11/dist-packages (from SQLAlchemy<3,>=1.4->langchain-community) (3.2.1)\n",
            "Requirement already satisfied: regex>=2022.1.18 in /usr/local/lib/python3.11/dist-packages (from tiktoken>=0.5.1->tavily-python) (2024.11.6)\n",
            "Requirement already satisfied: jsonpointer>=1.9 in /usr/local/lib/python3.11/dist-packages (from jsonpatch<2.0,>=1.33->langchain-core<1.0.0,>=0.3.59->langchain-community) (3.0.0)\n",
            "Collecting mypy-extensions>=0.3.0 (from typing-inspect<1,>=0.4.0->dataclasses-json<0.7,>=0.5.7->langchain-community)\n",
            "  Downloading mypy_extensions-1.1.0-py3-none-any.whl.metadata (1.1 kB)\n",
            "Downloading langchain_community-0.3.24-py3-none-any.whl (2.5 MB)\n",
            "\u001b[2K   \u001b[90m━━━━━━━━━━━━━━━━━━━━━━━━━━━━━━━━━━━━━━━━\u001b[0m \u001b[32m2.5/2.5 MB\u001b[0m \u001b[31m61.6 MB/s\u001b[0m eta \u001b[36m0:00:00\u001b[0m\n",
            "\u001b[?25hDownloading langgraph-0.4.3-py3-none-any.whl (151 kB)\n",
            "\u001b[2K   \u001b[90m━━━━━━━━━━━━━━━━━━━━━━━━━━━━━━━━━━━━━━━━\u001b[0m \u001b[32m151.2/151.2 kB\u001b[0m \u001b[31m14.9 MB/s\u001b[0m eta \u001b[36m0:00:00\u001b[0m\n",
            "\u001b[?25hDownloading langchain_anthropic-0.3.13-py3-none-any.whl (26 kB)\n",
            "Downloading tavily_python-0.7.2-py3-none-any.whl (14 kB)\n",
            "Downloading langgraph_checkpoint_sqlite-2.0.7-py3-none-any.whl (12 kB)\n",
            "Downloading aiosqlite-0.21.0-py3-none-any.whl (15 kB)\n",
            "Downloading anthropic-0.51.0-py3-none-any.whl (263 kB)\n",
            "\u001b[2K   \u001b[90m━━━━━━━━━━━━━━━━━━━━━━━━━━━━━━━━━━━━━━━━\u001b[0m \u001b[32m264.0/264.0 kB\u001b[0m \u001b[31m21.4 MB/s\u001b[0m eta \u001b[36m0:00:00\u001b[0m\n",
            "\u001b[?25hDownloading dataclasses_json-0.6.7-py3-none-any.whl (28 kB)\n",
            "Downloading httpx_sse-0.4.0-py3-none-any.whl (7.8 kB)\n",
            "Downloading langgraph_checkpoint-2.0.25-py3-none-any.whl (42 kB)\n",
            "\u001b[2K   \u001b[90m━━━━━━━━━━━━━━━━━━━━━━━━━━━━━━━━━━━━━━━━\u001b[0m \u001b[32m42.3/42.3 kB\u001b[0m \u001b[31m3.2 MB/s\u001b[0m eta \u001b[36m0:00:00\u001b[0m\n",
            "\u001b[?25hDownloading langgraph_prebuilt-0.1.8-py3-none-any.whl (25 kB)\n",
            "Downloading langgraph_sdk-0.1.69-py3-none-any.whl (48 kB)\n",
            "\u001b[2K   \u001b[90m━━━━━━━━━━━━━━━━━━━━━━━━━━━━━━━━━━━━━━━━\u001b[0m \u001b[32m48.9/48.9 kB\u001b[0m \u001b[31m4.0 MB/s\u001b[0m eta \u001b[36m0:00:00\u001b[0m\n",
            "\u001b[?25hDownloading pydantic_settings-2.9.1-py3-none-any.whl (44 kB)\n",
            "\u001b[2K   \u001b[90m━━━━━━━━━━━━━━━━━━━━━━━━━━━━━━━━━━━━━━━━\u001b[0m \u001b[32m44.4/44.4 kB\u001b[0m \u001b[31m3.4 MB/s\u001b[0m eta \u001b[36m0:00:00\u001b[0m\n",
            "\u001b[?25hDownloading marshmallow-3.26.1-py3-none-any.whl (50 kB)\n",
            "\u001b[2K   \u001b[90m━━━━━━━━━━━━━━━━━━━━━━━━━━━━━━━━━━━━━━━━\u001b[0m \u001b[32m50.9/50.9 kB\u001b[0m \u001b[31m4.3 MB/s\u001b[0m eta \u001b[36m0:00:00\u001b[0m\n",
            "\u001b[?25hDownloading ormsgpack-1.9.1-cp311-cp311-manylinux_2_17_x86_64.manylinux2014_x86_64.whl (223 kB)\n",
            "\u001b[2K   \u001b[90m━━━━━━━━━━━━━━━━━━━━━━━━━━━━━━━━━━━━━━━━\u001b[0m \u001b[32m223.6/223.6 kB\u001b[0m \u001b[31m20.6 MB/s\u001b[0m eta \u001b[36m0:00:00\u001b[0m\n",
            "\u001b[?25hDownloading python_dotenv-1.1.0-py3-none-any.whl (20 kB)\n",
            "Downloading typing_inspect-0.9.0-py3-none-any.whl (8.8 kB)\n",
            "Downloading mypy_extensions-1.1.0-py3-none-any.whl (5.0 kB)\n",
            "Installing collected packages: python-dotenv, ormsgpack, mypy-extensions, marshmallow, httpx-sse, aiosqlite, typing-inspect, tavily-python, pydantic-settings, langgraph-sdk, dataclasses-json, anthropic, langgraph-checkpoint, langchain-anthropic, langgraph-prebuilt, langgraph-checkpoint-sqlite, langgraph, langchain-community\n",
            "Successfully installed aiosqlite-0.21.0 anthropic-0.51.0 dataclasses-json-0.6.7 httpx-sse-0.4.0 langchain-anthropic-0.3.13 langchain-community-0.3.24 langgraph-0.4.3 langgraph-checkpoint-2.0.25 langgraph-checkpoint-sqlite-2.0.7 langgraph-prebuilt-0.1.8 langgraph-sdk-0.1.69 marshmallow-3.26.1 mypy-extensions-1.1.0 ormsgpack-1.9.1 pydantic-settings-2.9.1 python-dotenv-1.1.0 tavily-python-0.7.2 typing-inspect-0.9.0\n"
          ]
        }
      ],
      "source": [
        "!pip install -U langchain-community langgraph langchain-anthropic tavily-python langgraph-checkpoint-sqlite\n",
        "!pip install -qU \"langchain[mistralai]\""
      ]
    },
    {
      "cell_type": "code",
      "source": [
        "!pip install gradio"
      ],
      "metadata": {
        "colab": {
          "base_uri": "https://localhost:8080/"
        },
        "id": "WbCkDVEvSp4M",
        "outputId": "7dc3f2d6-61d1-4f1f-b111-939ea237c943"
      },
      "execution_count": 2,
      "outputs": [
        {
          "output_type": "stream",
          "name": "stdout",
          "text": [
            "Collecting gradio\n",
            "  Downloading gradio-5.29.0-py3-none-any.whl.metadata (16 kB)\n",
            "Collecting aiofiles<25.0,>=22.0 (from gradio)\n",
            "  Downloading aiofiles-24.1.0-py3-none-any.whl.metadata (10 kB)\n",
            "Requirement already satisfied: anyio<5.0,>=3.0 in /usr/local/lib/python3.11/dist-packages (from gradio) (4.9.0)\n",
            "Collecting fastapi<1.0,>=0.115.2 (from gradio)\n",
            "  Downloading fastapi-0.115.12-py3-none-any.whl.metadata (27 kB)\n",
            "Collecting ffmpy (from gradio)\n",
            "  Downloading ffmpy-0.5.0-py3-none-any.whl.metadata (3.0 kB)\n",
            "Collecting gradio-client==1.10.0 (from gradio)\n",
            "  Downloading gradio_client-1.10.0-py3-none-any.whl.metadata (7.1 kB)\n",
            "Collecting groovy~=0.1 (from gradio)\n",
            "  Downloading groovy-0.1.2-py3-none-any.whl.metadata (6.1 kB)\n",
            "Requirement already satisfied: httpx>=0.24.1 in /usr/local/lib/python3.11/dist-packages (from gradio) (0.28.1)\n",
            "Requirement already satisfied: huggingface-hub>=0.28.1 in /usr/local/lib/python3.11/dist-packages (from gradio) (0.31.1)\n",
            "Requirement already satisfied: jinja2<4.0 in /usr/local/lib/python3.11/dist-packages (from gradio) (3.1.6)\n",
            "Requirement already satisfied: markupsafe<4.0,>=2.0 in /usr/local/lib/python3.11/dist-packages (from gradio) (3.0.2)\n",
            "Requirement already satisfied: numpy<3.0,>=1.0 in /usr/local/lib/python3.11/dist-packages (from gradio) (2.0.2)\n",
            "Requirement already satisfied: orjson~=3.0 in /usr/local/lib/python3.11/dist-packages (from gradio) (3.10.18)\n",
            "Requirement already satisfied: packaging in /usr/local/lib/python3.11/dist-packages (from gradio) (24.2)\n",
            "Requirement already satisfied: pandas<3.0,>=1.0 in /usr/local/lib/python3.11/dist-packages (from gradio) (2.2.2)\n",
            "Requirement already satisfied: pillow<12.0,>=8.0 in /usr/local/lib/python3.11/dist-packages (from gradio) (11.2.1)\n",
            "Requirement already satisfied: pydantic<2.12,>=2.0 in /usr/local/lib/python3.11/dist-packages (from gradio) (2.11.4)\n",
            "Collecting pydub (from gradio)\n",
            "  Downloading pydub-0.25.1-py2.py3-none-any.whl.metadata (1.4 kB)\n",
            "Collecting python-multipart>=0.0.18 (from gradio)\n",
            "  Downloading python_multipart-0.0.20-py3-none-any.whl.metadata (1.8 kB)\n",
            "Requirement already satisfied: pyyaml<7.0,>=5.0 in /usr/local/lib/python3.11/dist-packages (from gradio) (6.0.2)\n",
            "Collecting ruff>=0.9.3 (from gradio)\n",
            "  Downloading ruff-0.11.9-py3-none-manylinux_2_17_x86_64.manylinux2014_x86_64.whl.metadata (25 kB)\n",
            "Collecting safehttpx<0.2.0,>=0.1.6 (from gradio)\n",
            "  Downloading safehttpx-0.1.6-py3-none-any.whl.metadata (4.2 kB)\n",
            "Collecting semantic-version~=2.0 (from gradio)\n",
            "  Downloading semantic_version-2.10.0-py2.py3-none-any.whl.metadata (9.7 kB)\n",
            "Collecting starlette<1.0,>=0.40.0 (from gradio)\n",
            "  Downloading starlette-0.46.2-py3-none-any.whl.metadata (6.2 kB)\n",
            "Collecting tomlkit<0.14.0,>=0.12.0 (from gradio)\n",
            "  Downloading tomlkit-0.13.2-py3-none-any.whl.metadata (2.7 kB)\n",
            "Requirement already satisfied: typer<1.0,>=0.12 in /usr/local/lib/python3.11/dist-packages (from gradio) (0.15.3)\n",
            "Requirement already satisfied: typing-extensions~=4.0 in /usr/local/lib/python3.11/dist-packages (from gradio) (4.13.2)\n",
            "Collecting uvicorn>=0.14.0 (from gradio)\n",
            "  Downloading uvicorn-0.34.2-py3-none-any.whl.metadata (6.5 kB)\n",
            "Requirement already satisfied: fsspec in /usr/local/lib/python3.11/dist-packages (from gradio-client==1.10.0->gradio) (2025.3.2)\n",
            "Requirement already satisfied: websockets<16.0,>=10.0 in /usr/local/lib/python3.11/dist-packages (from gradio-client==1.10.0->gradio) (15.0.1)\n",
            "Requirement already satisfied: idna>=2.8 in /usr/local/lib/python3.11/dist-packages (from anyio<5.0,>=3.0->gradio) (3.10)\n",
            "Requirement already satisfied: sniffio>=1.1 in /usr/local/lib/python3.11/dist-packages (from anyio<5.0,>=3.0->gradio) (1.3.1)\n",
            "Requirement already satisfied: certifi in /usr/local/lib/python3.11/dist-packages (from httpx>=0.24.1->gradio) (2025.4.26)\n",
            "Requirement already satisfied: httpcore==1.* in /usr/local/lib/python3.11/dist-packages (from httpx>=0.24.1->gradio) (1.0.9)\n",
            "Requirement already satisfied: h11>=0.16 in /usr/local/lib/python3.11/dist-packages (from httpcore==1.*->httpx>=0.24.1->gradio) (0.16.0)\n",
            "Requirement already satisfied: filelock in /usr/local/lib/python3.11/dist-packages (from huggingface-hub>=0.28.1->gradio) (3.18.0)\n",
            "Requirement already satisfied: requests in /usr/local/lib/python3.11/dist-packages (from huggingface-hub>=0.28.1->gradio) (2.32.3)\n",
            "Requirement already satisfied: tqdm>=4.42.1 in /usr/local/lib/python3.11/dist-packages (from huggingface-hub>=0.28.1->gradio) (4.67.1)\n",
            "Requirement already satisfied: hf-xet<2.0.0,>=1.1.0 in /usr/local/lib/python3.11/dist-packages (from huggingface-hub>=0.28.1->gradio) (1.1.0)\n",
            "Requirement already satisfied: python-dateutil>=2.8.2 in /usr/local/lib/python3.11/dist-packages (from pandas<3.0,>=1.0->gradio) (2.9.0.post0)\n",
            "Requirement already satisfied: pytz>=2020.1 in /usr/local/lib/python3.11/dist-packages (from pandas<3.0,>=1.0->gradio) (2025.2)\n",
            "Requirement already satisfied: tzdata>=2022.7 in /usr/local/lib/python3.11/dist-packages (from pandas<3.0,>=1.0->gradio) (2025.2)\n",
            "Requirement already satisfied: annotated-types>=0.6.0 in /usr/local/lib/python3.11/dist-packages (from pydantic<2.12,>=2.0->gradio) (0.7.0)\n",
            "Requirement already satisfied: pydantic-core==2.33.2 in /usr/local/lib/python3.11/dist-packages (from pydantic<2.12,>=2.0->gradio) (2.33.2)\n",
            "Requirement already satisfied: typing-inspection>=0.4.0 in /usr/local/lib/python3.11/dist-packages (from pydantic<2.12,>=2.0->gradio) (0.4.0)\n",
            "Requirement already satisfied: click>=8.0.0 in /usr/local/lib/python3.11/dist-packages (from typer<1.0,>=0.12->gradio) (8.1.8)\n",
            "Requirement already satisfied: shellingham>=1.3.0 in /usr/local/lib/python3.11/dist-packages (from typer<1.0,>=0.12->gradio) (1.5.4)\n",
            "Requirement already satisfied: rich>=10.11.0 in /usr/local/lib/python3.11/dist-packages (from typer<1.0,>=0.12->gradio) (13.9.4)\n",
            "Requirement already satisfied: six>=1.5 in /usr/local/lib/python3.11/dist-packages (from python-dateutil>=2.8.2->pandas<3.0,>=1.0->gradio) (1.17.0)\n",
            "Requirement already satisfied: markdown-it-py>=2.2.0 in /usr/local/lib/python3.11/dist-packages (from rich>=10.11.0->typer<1.0,>=0.12->gradio) (3.0.0)\n",
            "Requirement already satisfied: pygments<3.0.0,>=2.13.0 in /usr/local/lib/python3.11/dist-packages (from rich>=10.11.0->typer<1.0,>=0.12->gradio) (2.19.1)\n",
            "Requirement already satisfied: charset-normalizer<4,>=2 in /usr/local/lib/python3.11/dist-packages (from requests->huggingface-hub>=0.28.1->gradio) (3.4.2)\n",
            "Requirement already satisfied: urllib3<3,>=1.21.1 in /usr/local/lib/python3.11/dist-packages (from requests->huggingface-hub>=0.28.1->gradio) (2.4.0)\n",
            "Requirement already satisfied: mdurl~=0.1 in /usr/local/lib/python3.11/dist-packages (from markdown-it-py>=2.2.0->rich>=10.11.0->typer<1.0,>=0.12->gradio) (0.1.2)\n",
            "Downloading gradio-5.29.0-py3-none-any.whl (54.1 MB)\n",
            "\u001b[2K   \u001b[90m━━━━━━━━━━━━━━━━━━━━━━━━━━━━━━━━━━━━━━━━\u001b[0m \u001b[32m54.1/54.1 MB\u001b[0m \u001b[31m15.3 MB/s\u001b[0m eta \u001b[36m0:00:00\u001b[0m\n",
            "\u001b[?25hDownloading gradio_client-1.10.0-py3-none-any.whl (322 kB)\n",
            "\u001b[2K   \u001b[90m━━━━━━━━━━━━━━━━━━━━━━━━━━━━━━━━━━━━━━━━\u001b[0m \u001b[32m322.9/322.9 kB\u001b[0m \u001b[31m29.3 MB/s\u001b[0m eta \u001b[36m0:00:00\u001b[0m\n",
            "\u001b[?25hDownloading aiofiles-24.1.0-py3-none-any.whl (15 kB)\n",
            "Downloading fastapi-0.115.12-py3-none-any.whl (95 kB)\n",
            "\u001b[2K   \u001b[90m━━━━━━━━━━━━━━━━━━━━━━━━━━━━━━━━━━━━━━━━\u001b[0m \u001b[32m95.2/95.2 kB\u001b[0m \u001b[31m8.0 MB/s\u001b[0m eta \u001b[36m0:00:00\u001b[0m\n",
            "\u001b[?25hDownloading groovy-0.1.2-py3-none-any.whl (14 kB)\n",
            "Downloading python_multipart-0.0.20-py3-none-any.whl (24 kB)\n",
            "Downloading ruff-0.11.9-py3-none-manylinux_2_17_x86_64.manylinux2014_x86_64.whl (11.5 MB)\n",
            "\u001b[2K   \u001b[90m━━━━━━━━━━━━━━━━━━━━━━━━━━━━━━━━━━━━━━━━\u001b[0m \u001b[32m11.5/11.5 MB\u001b[0m \u001b[31m112.4 MB/s\u001b[0m eta \u001b[36m0:00:00\u001b[0m\n",
            "\u001b[?25hDownloading safehttpx-0.1.6-py3-none-any.whl (8.7 kB)\n",
            "Downloading semantic_version-2.10.0-py2.py3-none-any.whl (15 kB)\n",
            "Downloading starlette-0.46.2-py3-none-any.whl (72 kB)\n",
            "\u001b[2K   \u001b[90m━━━━━━━━━━━━━━━━━━━━━━━━━━━━━━━━━━━━━━━━\u001b[0m \u001b[32m72.0/72.0 kB\u001b[0m \u001b[31m7.4 MB/s\u001b[0m eta \u001b[36m0:00:00\u001b[0m\n",
            "\u001b[?25hDownloading tomlkit-0.13.2-py3-none-any.whl (37 kB)\n",
            "Downloading uvicorn-0.34.2-py3-none-any.whl (62 kB)\n",
            "\u001b[2K   \u001b[90m━━━━━━━━━━━━━━━━━━━━━━━━━━━━━━━━━━━━━━━━\u001b[0m \u001b[32m62.5/62.5 kB\u001b[0m \u001b[31m5.7 MB/s\u001b[0m eta \u001b[36m0:00:00\u001b[0m\n",
            "\u001b[?25hDownloading ffmpy-0.5.0-py3-none-any.whl (6.0 kB)\n",
            "Downloading pydub-0.25.1-py2.py3-none-any.whl (32 kB)\n",
            "Installing collected packages: pydub, uvicorn, tomlkit, semantic-version, ruff, python-multipart, groovy, ffmpy, aiofiles, starlette, safehttpx, gradio-client, fastapi, gradio\n",
            "Successfully installed aiofiles-24.1.0 fastapi-0.115.12 ffmpy-0.5.0 gradio-5.29.0 gradio-client-1.10.0 groovy-0.1.2 pydub-0.25.1 python-multipart-0.0.20 ruff-0.11.9 safehttpx-0.1.6 semantic-version-2.10.0 starlette-0.46.2 tomlkit-0.13.2 uvicorn-0.34.2\n"
          ]
        }
      ]
    },
    {
      "cell_type": "markdown",
      "source": [
        "**Import packages**"
      ],
      "metadata": {
        "id": "gpNSWA-IsUYP"
      }
    },
    {
      "cell_type": "code",
      "source": [
        "import requests\n",
        "import json\n",
        "import os\n",
        "from collections import Counter\n",
        "from langgraph.graph import StateGraph, END\n",
        "from typing import TypedDict, Annotated\n",
        "import operator\n",
        "from langchain_core.messages import AnyMessage, SystemMessage, HumanMessage, ToolMessage, AIMessage\n",
        "from langchain_community.tools.tavily_search import TavilySearchResults\n",
        "from langchain.chat_models import init_chat_model\n",
        "import gradio as gr\n",
        "from langchain.schema import HumanMessage\n",
        "from langchain.tools import tool\n"
      ],
      "metadata": {
        "id": "9VvZnsIjSjk6"
      },
      "execution_count": 3,
      "outputs": []
    },
    {
      "cell_type": "markdown",
      "source": [
        "**Setup the Mistral AI API KEY**"
      ],
      "metadata": {
        "id": "cqxW9m85saNV"
      }
    },
    {
      "cell_type": "code",
      "source": [
        "os.environ[\"MISTRAL_API_KEY\"] = MISTRAL_API_KEY"
      ],
      "metadata": {
        "id": "PrM-ruePRmOj"
      },
      "execution_count": 4,
      "outputs": []
    },
    {
      "cell_type": "markdown",
      "source": [
        "**Define a tool that looks and fetches the words that will be replaced by GenAlpha text.**"
      ],
      "metadata": {
        "id": "4dBD0US4s-rc"
      }
    },
    {
      "cell_type": "code",
      "source": [
        "slang_dict = {\n",
        "    \"rizz\": {\n",
        "        \"meaning\": \"Short for charisma; refers to someone's charm or smoothness, especially in flirting.\",\n",
        "        \"example\": \"He's got mad rizz, everyone's swooning over him.\"\n",
        "    },\n",
        "    \"Gyat\": {\n",
        "        \"meaning\": \"An exclamation of admiration or surprise, often playful.\",\n",
        "        \"example\": \"Gyat! That trick was insane!\"\n",
        "    },\n",
        "    \"Drip\": {\n",
        "        \"meaning\": \"Refers to someone's stylish outfit or overall fashion sense.\",\n",
        "        \"example\": \"Her drip is unmatched, look at those sneakers!\"\n",
        "    },\n",
        "    \"Skibidi\": {\n",
        "        \"meaning\": \"Inspired by the Skibidi Toilet YouTube series, it's used to describe something chaotic, silly, or unexpectedly cool.\",\n",
        "        \"example\": \"This dance challenge is so skibidi, it's hilarious!\"\n",
        "    },\n",
        "    \"Delulu\": {\n",
        "        \"meaning\": \"Short for delusional, often used jokingly to describe someone with unrealistic ideas.\",\n",
        "        \"example\": \"You think you can go viral overnight? That's delulu!\"\n",
        "    },\n",
        "    \"Sigma\": {\n",
        "        \"meaning\": \"A term for someone independent, confident, or unconventional.\",\n",
        "        \"example\": \"He doesn't care about trends, he's a total sigma.\"\n",
        "    },\n",
        "    \"Bussin'\": {\n",
        "        \"meaning\": \"Used to describe something exceptionally good, often food.\",\n",
        "        \"example\": \"This pizza is bussin', can we order another one?\"\n",
        "    },\n",
        "    \"Mid\": {\n",
        "        \"meaning\": \"Something mediocre or average.\",\n",
        "        \"example\": \"That movie was so mid, I wouldn't watch it again.\"\n",
        "    },\n",
        "    \"Ohio\": {\n",
        "        \"meaning\": \"Meme-inspired term for something awkward, cringe-worthy, or odd.\",\n",
        "        \"example\": \"That haircut? Total Ohio vibes.\"\n",
        "    },\n",
        "    \"Cap\": {\n",
        "        \"meaning\": \"A lie or exaggeration.\",\n",
        "        \"example\": \"There's no way you saw Beyoncé, stop the cap.\"\n",
        "    },\n",
        "    \"Slay\": {\n",
        "        \"meaning\": \"To perform excellently or look amazing while doing something.\",\n",
        "        \"example\": \"You slayed that outfit today, it's perfect!\"\n",
        "    },\n",
        "    \"Sheesh\": {\n",
        "        \"meaning\": \"An exclamation of excitement or disbelief.\",\n",
        "        \"example\": \"Sheesh! That car is incredible!\"\n",
        "    },\n",
        "    \"NPC\": {\n",
        "        \"meaning\": \"Refers to someone who seems unoriginal or robotic, like a non-playable character in a video game.\",\n",
        "        \"example\": \"He just repeats what everyone else says, total NPC vibes.\"\n",
        "    },\n",
        "    \"Ong\": {\n",
        "        \"meaning\": \"Short for \\\"on God,\\\" used to emphasize truth or sincerity.\",\n",
        "        \"example\": \"This cake is amazing, ong!\"\n",
        "    },\n",
        "    \"Slaps\": {\n",
        "        \"meaning\": \"Used to describe something excellent, often music or food.\",\n",
        "        \"example\": \"This playlist slaps, who made it?\"\n",
        "    },\n",
        "    \"Fye\": {\n",
        "        \"meaning\": \"Another way to say something is amazing or cool.\",\n",
        "        \"example\": \"That jacket is fye, where did you get it?\"\n",
        "    },\n",
        "    \"Glow Up\": {\n",
        "        \"meaning\": \"Refers to someone's impressive transformation, often in appearance or confidence.\",\n",
        "        \"example\": \"She had a major glow-up during the holidays!\"\n",
        "    },\n",
        "    \"Yeet\": {\n",
        "        \"meaning\": \"To throw something with enthusiasm or force.\",\n",
        "        \"example\": \"He yeeted his backpack across the room!\"\n",
        "    },\n",
        "    \"W\": {\n",
        "        \"meaning\": \"Stands for \\\"win,\\\" used to celebrate success.\",\n",
        "        \"example\": \"You aced the test? That's a W!\"\n",
        "    },\n",
        "    \"L\": {\n",
        "        \"meaning\": \"Short for \\\"loss,\\\" often used humorously when something goes wrong.\",\n",
        "        \"example\": \"Dropped my ice cream? That's an L.\"\n",
        "    },\n",
        "    \"Vibing\": {\n",
        "        \"meaning\": \"Relaxing or enjoying the moment.\",\n",
        "        \"example\": \"I'm just vibing with some good music.\"\n",
        "    },\n",
        "    \"Pog\": {\n",
        "        \"meaning\": \"Used in gaming to express excitement or admiration.\",\n",
        "        \"example\": \"That move was pog, you're a legend!\"\n",
        "    },\n",
        "    \"Glow\": {\n",
        "        \"meaning\": \"Refers to looking fresh, attractive, or confident.\",\n",
        "        \"example\": \"You're glowing today, what's your secret?\"\n",
        "    },\n",
        "    \"Dank\": {\n",
        "        \"meaning\": \"High-quality, especially for memes.\",\n",
        "        \"example\": \"That meme is dank, I'm saving it.\"\n",
        "    },\n",
        "    \"Cringe\": {\n",
        "        \"meaning\": \"Something embarrassing or awkward.\",\n",
        "        \"example\": \"Watching my old videos is so cringe.\"\n",
        "    },\n",
        "    \"Sus\": {\n",
        "        \"meaning\": \"Short for \\\"suspicious,\\\" often used jokingly.\",\n",
        "        \"example\": \"Why is he acting so sus during the game?\"\n",
        "    },\n",
        "    \"Pushing P\": {\n",
        "        \"meaning\": \"Keeping things real or authentic.\",\n",
        "        \"example\": \"They're always honest, they're pushing P.\"\n",
        "    },\n",
        "    \"Big Yikes\": {\n",
        "        \"meaning\": \"Used for something extremely awkward or uncomfortable.\",\n",
        "        \"example\": \"He forgot the lyrics on stage? Big yikes!\"\n",
        "    },\n",
        "    \"Flex\": {\n",
        "        \"meaning\": \"To show off, often humorously.\",\n",
        "        \"example\": \"Posting that rare sneaker collection? Major flex.\"\n",
        "    },\n",
        "    \"Savage\": {\n",
        "        \"meaning\": \"Someone unapologetically bold or daring.\",\n",
        "        \"example\": \"Her clapback was savage, left everyone speechless.\"\n",
        "    },\n",
        "    \"Bet\": {\n",
        "        \"meaning\": \"Used to agree with something or affirm a plan.\",\n",
        "        \"example\": \"You want to go to the mall later? Bet, I'm down.\"\n",
        "    },\n",
        "    \"Big Mood\": {\n",
        "        \"meaning\": \"Used to describe something that perfectly expresses how you're feeling.\",\n",
        "        \"example\": \"That's totally a big mood today, I'm exhausted.\"\n",
        "    },\n",
        "    \"Clout\": {\n",
        "        \"meaning\": \"Influence or popularity, especially on social media.\",\n",
        "        \"example\": \"She's got mad clout on TikTok, everyone follows her.\"\n",
        "    },\n",
        "    \"Shook\": {\n",
        "        \"meaning\": \"To be shocked or surprised, often in a dramatic way.\",\n",
        "        \"example\": \"I was shook when I saw that plot twist in the movie.\"\n",
        "    },\n",
        "    \"Fr\": {\n",
        "        \"meaning\": \"Short for \\\"for real,\\\" used to emphasize truth.\",\n",
        "        \"example\": \"That was the best concert ever, fr.\"\n",
        "    },\n",
        "    \"Vibe Check\": {\n",
        "        \"meaning\": \"A quick judgment or assessment of someone's mood or energy.\",\n",
        "        \"example\": \"Let's do a vibe check, everyone good?\"\n",
        "    },\n",
        "    \"TFW\": {\n",
        "        \"meaning\": \"Stands for \\\"That feeling when,\\\" used to start a relatable or funny statement.\",\n",
        "        \"example\": \"TFW you realize you left your phone at home.\"\n",
        "    },\n",
        "    \"No Cap\": {\n",
        "        \"meaning\": \"To say something is completely true, no exaggeration.\",\n",
        "        \"example\": \"I'm telling you, this dessert is the best, no cap.\"\n",
        "    },\n",
        "    \"Lowkey\": {\n",
        "        \"meaning\": \"Secretly or subtly.\",\n",
        "        \"example\": \"I lowkey want to skip school tomorrow and go to the beach.\"\n",
        "    },\n",
        "    \"Highkey\": {\n",
        "        \"meaning\": \"The opposite of lowkey, openly or enthusiastically.\",\n",
        "        \"example\": \"I highkey love that song, it's on repeat.\"\n",
        "    },\n",
        "    \"Deadass\": {\n",
        "        \"meaning\": \"Used to say something seriously or with emphasis.\",\n",
        "        \"example\": \"I'm deadass thinking about taking a gap year.\"\n",
        "    },\n",
        "    \"Finesse\": {\n",
        "        \"meaning\": \"To skillfully manipulate or handle a situation.\",\n",
        "        \"example\": \"She finessed her way into getting the front-row tickets.\"\n",
        "    },\n",
        "    \"Catching Vibes\": {\n",
        "        \"meaning\": \"Enjoying the energy of a situation or feeling the mood.\",\n",
        "        \"example\": \"We were just catching vibes at the park, listening to music.\"\n",
        "    },\n",
        "    \"Simp\": {\n",
        "        \"meaning\": \"Refers to someone who is overly attentive or affectionate towards someone they like, often in a way that seems excessive.\",\n",
        "        \"example\": \"He's always buying her gifts, such a simp.\"\n",
        "    },\n",
        "    \"Slaps Different\": {\n",
        "        \"meaning\": \"Used to say that something is exceptionally good or unique.\",\n",
        "        \"example\": \"This version of the song slaps different, I love it!\"\n",
        "    },\n",
        "    \"Flexing\": {\n",
        "        \"meaning\": \"Showing off, especially in a flashy or boastful way.\",\n",
        "        \"example\": \"Stop flexing your new car, it's cool, but we get it.\"\n",
        "    },\n",
        "    \"Fire\": {\n",
        "        \"meaning\": \"Used to describe something really cool, amazing, or impressive.\",\n",
        "        \"example\": \"Those shoes are fire, where can I get them?\"\n",
        "    },\n",
        "    \"Go Off\": {\n",
        "        \"meaning\": \"Used to encourage someone to speak or act passionately, or to express something strongly.\",\n",
        "        \"example\": \"She went off during the presentation, everyone was impressed!\"\n",
        "    },\n",
        "    \"Mood\": {\n",
        "        \"meaning\": \"A way to relate to someone's current feelings or situation.\",\n",
        "        \"example\": \"That's a whole mood right now, napping sounds perfect.\"\n",
        "    },\n",
        "    \"Vibe\": {\n",
        "        \"meaning\": \"Refers to the general feeling or atmosphere of a situation.\",\n",
        "        \"example\": \"The vibe at this party is so chill, I love it.\"\n",
        "    },\n",
        "    \"Hype\": {\n",
        "        \"meaning\": \"Excitement or anticipation around something.\",\n",
        "        \"example\": \"The hype for that new movie is real, everyone's talking about it.\"\n",
        "    },\n",
        "    \"Tea\": {\n",
        "        \"meaning\": \"Gossip or information, especially the latest news or drama.\",\n",
        "        \"example\": \"What's the tea on that new couple? Are they official?\"\n",
        "    },\n",
        "    \"Tired\": {\n",
        "        \"meaning\": \"Used to express being done with something or feeling fed up.\",\n",
        "        \"example\": \"I'm so tired of hearing about that drama, it's exhausting.\"\n",
        "    },\n",
        "    \"Zonked\": {\n",
        "        \"meaning\": \"Completely exhausted or tired.\",\n",
        "        \"example\": \"After that workout, I'm totally zonked.\"\n",
        "    },\n",
        "    \"Drippy\": {\n",
        "        \"meaning\": \"Refers to someone's fashion style being fresh and on point.\",\n",
        "        \"example\": \"Look at those sneakers! You're looking drippy today.\"\n",
        "    },\n",
        "    \"No Vibe\": {\n",
        "        \"meaning\": \"A situation or person that lacks energy or excitement.\",\n",
        "        \"example\": \"This party has no vibe, it's so quiet.\"\n",
        "    },\n",
        "    \"Chuggy\": {\n",
        "        \"meaning\": \"Describes something outdated or trying too hard to be trendy.\",\n",
        "        \"example\": \"That brand is so chuggy, it's not cool anymore.\"\n",
        "    },\n",
        "    \"Cracked\": {\n",
        "        \"meaning\": \"Used to describe something that's insanely good, especially in gaming.\",\n",
        "        \"example\": \"He's cracked at Fortnite, no one can beat him.\"\n",
        "    },\n",
        "    \"Catch These Hands\": {\n",
        "        \"meaning\": \"A playful way of saying you're ready for a fight or confrontation.\",\n",
        "        \"example\": \"You want to start something? Catch these hands!\"\n",
        "    },\n",
        "    \"Sussy\": {\n",
        "        \"meaning\": \"Short for \\\"sus,\\\" used in a similar way to describe someone who is being suspicious or shady.\",\n",
        "        \"example\": \"Why's he acting all sussy around us? What's going on?\"\n",
        "    },\n",
        "    \"Poppin'\": {\n",
        "        \"meaning\": \"Used to describe something that's exciting or very active.\",\n",
        "        \"example\": \"This club is poppin' tonight, let's go!\"\n",
        "    },\n",
        "    \"Vibed Out\": {\n",
        "        \"meaning\": \"Used to say that you're fully enjoying or experiencing a relaxed atmosphere.\",\n",
        "        \"example\": \"We vibed out all day at the beach with no worries.\"\n",
        "    },\n",
        "    \"Big Flex\": {\n",
        "        \"meaning\": \"A bold or impressive show of wealth, success, or confidence.\",\n",
        "        \"example\": \"He just pulled up in a brand-new car, big flex!\"\n",
        "    },\n",
        "    \"Woke\": {\n",
        "        \"meaning\": \"Originally meaning socially aware, now it's sometimes used sarcastically to refer to someone overly conscious of social issues.\",\n",
        "        \"example\": \"He's always talking about politics, he's so woke.\"\n",
        "    },\n",
        "    \"It's Giving\": {\n",
        "        \"meaning\": \"Used to express a strong impression or vibe about someone or something.\",\n",
        "        \"example\": \"It's giving major 90s fashion, those jeans are so retro!\"\n",
        "    },\n",
        "    \"Steez\": {\n",
        "        \"meaning\": \"Refers to someone's unique style or flair, often in fashion or attitude.\",\n",
        "        \"example\": \"He's got the steez, look at that jacket.\"\n",
        "    },\n",
        "    \"Goated\": {\n",
        "        \"meaning\": \"Short for \\\"Greatest of All Time,\\\" used to describe something or someone that's exceptional.\",\n",
        "        \"example\": \"That player is goated, best of the season!\"\n",
        "    },\n",
        "    \"Stan\": {\n",
        "        \"meaning\": \"To be an overzealous fan of something or someone.\",\n",
        "        \"example\": \"I stan that artist so hard, she's amazing!\"\n",
        "    },\n",
        "    \"Simping\": {\n",
        "        \"meaning\": \"Acting overly submissive or affectionate towards someone, often at the expense of one's own dignity.\",\n",
        "        \"example\": \"He's been simping hard for her all week, hope it works out.\"\n",
        "    },\n",
        "    \"Dead\": {\n",
        "        \"meaning\": \"Used to express something is hilarious, to the point of being so funny it's overwhelming.\",\n",
        "        \"example\": \"That meme had me dead, I couldn't stop laughing.\"\n",
        "    }\n",
        "}\n",
        "\n",
        "@tool\n",
        "def get_slang_definitions(input_text: str) -> str:\n",
        "    \"\"\"Returns slang terms that are semantically related to the input.\"\"\"\n",
        "    result = []\n",
        "    input_text_lower = input_text.lower()\n",
        "\n",
        "    for slang, info in slang_dict.items():\n",
        "        # Naive match: check if any word in the meaning is in input\n",
        "        if any(word in input_text_lower for word in info[\"meaning\"].lower().split()):\n",
        "            result.append(f\"{slang.upper()}:\\nMeaning: {info['meaning']}\\nExample: {info['example']}\\n\")\n",
        "\n",
        "    # Fallback: if no match, return all (optional)\n",
        "    if not result:\n",
        "        for slang, info in slang_dict.items():\n",
        "            result.append(f\"{slang.upper()}:\\nMeaning: {info['meaning']}\\nExample: {info['example']}\\n\")\n",
        "\n",
        "    return \"\\n\".join(result)"
      ],
      "metadata": {
        "id": "2TdqBkyTRmR_"
      },
      "execution_count": 5,
      "outputs": []
    },
    {
      "cell_type": "markdown",
      "source": [
        "**Define the AI Agent state**"
      ],
      "metadata": {
        "id": "CCSCtN0LteVp"
      }
    },
    {
      "cell_type": "code",
      "source": [
        "class AgentState(TypedDict):\n",
        "    messages: Annotated[list[AnyMessage], operator.add]"
      ],
      "metadata": {
        "id": "ghjN67F3RmVK"
      },
      "execution_count": 6,
      "outputs": []
    },
    {
      "cell_type": "markdown",
      "source": [
        "**Define the nodes and edges to complete the Agent workflow**"
      ],
      "metadata": {
        "id": "JVE8ZOoBtixi"
      }
    },
    {
      "cell_type": "code",
      "source": [
        "class Agent:\n",
        "\n",
        "    def __init__(self, model, tools, system=\"\"):\n",
        "        self.system = system\n",
        "        graph = StateGraph(AgentState)\n",
        "        graph.add_node(\"llm\", self.call_mistral_ai)\n",
        "        graph.add_node(\"action\", self.take_action)\n",
        "        graph.add_conditional_edges(\n",
        "            \"llm\",\n",
        "            self.exists_action,\n",
        "            {True: \"action\", False: END}\n",
        "        )\n",
        "        graph.add_edge(\"action\", \"llm\")\n",
        "        graph.set_entry_point(\"llm\")\n",
        "        self.graph = graph.compile()\n",
        "        self.tools = {t.name: t for t in tools}\n",
        "        self.model = model.bind_tools(tools)\n",
        "\n",
        "    def exists_action(self, state: AgentState):\n",
        "        result = state['messages'][-1]\n",
        "        return len(result.tool_calls) > 0\n",
        "\n",
        "    def call_mistral_ai(self, state: AgentState):\n",
        "        messages = state['messages']\n",
        "        if self.system:\n",
        "            messages = [SystemMessage(content=self.system)] + messages\n",
        "        message = self.model.invoke(messages)\n",
        "        return {'messages': [message]}\n",
        "\n",
        "    def take_action(self, state: AgentState):\n",
        "        tool_calls = state['messages'][-1].tool_calls\n",
        "        results = []\n",
        "        for t in tool_calls:\n",
        "            print(f\"Calling: {t}\")\n",
        "            if not t['name'] in self.tools:      # check for bad tool name from LLM\n",
        "                print(\"\\n ....bad tool name....\")\n",
        "                result = \"bad tool name, retry\"  # instruct LLM to retry if bad\n",
        "            else:\n",
        "                result = self.tools[t['name']].invoke(t['args'])\n",
        "            results.append(ToolMessage(tool_call_id=t['id'], name=t['name'], content=str(result)))\n",
        "        print(\"Back to the model!\")\n",
        "        return {'messages': results}"
      ],
      "metadata": {
        "id": "sy8QknmDRmYH"
      },
      "execution_count": 7,
      "outputs": []
    },
    {
      "cell_type": "markdown",
      "source": [
        "**Define the system prompt and model**"
      ],
      "metadata": {
        "id": "9WREBu4rtpby"
      }
    },
    {
      "cell_type": "code",
      "source": [
        "prompt = \"\"\"You are a Gen Alpha slang expert. Use the available tools to get the slang for the provided prompt, take a look at the words in the tool more than one if you have too and find the most appropriate gen alpha word and change it to gen alpha slang and give me only the gen alpga slang .\n",
        "\n",
        "\"\"\"\n",
        "\n",
        "model = init_chat_model(\"mistral-large-latest\", model_provider=\"mistralai\")\n",
        "abot = Agent(model, [get_slang_definitions], system=prompt)\n"
      ],
      "metadata": {
        "id": "ZZMDMfCHRma_"
      },
      "execution_count": 8,
      "outputs": []
    },
    {
      "cell_type": "markdown",
      "source": [
        "**Invoke the graph and test it with simple prompt**"
      ],
      "metadata": {
        "id": "y6pJ6MMEtxAN"
      }
    },
    {
      "cell_type": "code",
      "source": [
        "messages = [HumanMessage(content=\"The guy is chaotic, however he is very confident\")]\n",
        "result = abot.graph.invoke({\"messages\": messages})"
      ],
      "metadata": {
        "colab": {
          "base_uri": "https://localhost:8080/"
        },
        "id": "m1lrqmcvTXQe",
        "outputId": "362ace18-86e4-413b-9e28-b1f2d34a28e7"
      },
      "execution_count": 12,
      "outputs": [
        {
          "output_type": "stream",
          "name": "stdout",
          "text": [
            "Calling: {'name': 'get_slang_definitions', 'args': {'input_text': 'The guy is chaotic, however he is very confident'}, 'id': 'lSQdbAYZX', 'type': 'tool_call'}\n",
            "Back to the model!\n"
          ]
        }
      ]
    },
    {
      "cell_type": "markdown",
      "source": [
        "**Output**"
      ],
      "metadata": {
        "id": "ErDuXaFIt8F2"
      }
    },
    {
      "cell_type": "code",
      "source": [
        "print(result['messages'][-1].content)"
      ],
      "metadata": {
        "colab": {
          "base_uri": "https://localhost:8080/"
        },
        "id": "9ijwoJi_cynW",
        "outputId": "4e609f92-82be-486e-b444-bb1ba42daf9e"
      },
      "execution_count": 13,
      "outputs": [
        {
          "output_type": "stream",
          "name": "stdout",
          "text": [
            "The guy is skibidi, however he is very sigma\n"
          ]
        }
      ]
    },
    {
      "cell_type": "markdown",
      "source": [
        "**Conclusion**\n",
        "\n",
        "*   The AI agent was able to successfully convert the original sentence into gen alpha slang. Congratulations!! now you sound like gen Alpha!\n",
        "\n",
        "\n",
        "\n",
        "\n",
        "\n"
      ],
      "metadata": {
        "id": "lbmZm88Eu9yW"
      }
    },
    {
      "cell_type": "code",
      "source": [],
      "metadata": {
        "id": "lFhRxG7CEE2A"
      },
      "execution_count": null,
      "outputs": []
    },
    {
      "cell_type": "code",
      "source": [],
      "metadata": {
        "id": "cki8WbGGEE5J"
      },
      "execution_count": null,
      "outputs": []
    },
    {
      "cell_type": "code",
      "source": [],
      "metadata": {
        "id": "eNLEElWIRmhG"
      },
      "execution_count": null,
      "outputs": []
    },
    {
      "cell_type": "code",
      "source": [],
      "metadata": {
        "id": "F2X1EvkHSEg4"
      },
      "execution_count": null,
      "outputs": []
    },
    {
      "cell_type": "code",
      "source": [],
      "metadata": {
        "id": "8XXoPswhSEkF"
      },
      "execution_count": null,
      "outputs": []
    }
  ]
}